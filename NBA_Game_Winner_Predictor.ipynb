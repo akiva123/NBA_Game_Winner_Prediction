{
 "cells": [
  {
   "cell_type": "code",
   "execution_count": 30,
   "id": "ee15dc07",
   "metadata": {},
   "outputs": [],
   "source": [
    "\n",
    "with open(\"scaler.pkl\", \"rb\") as scaler_file:\n",
    "    scaler = pickle.load(scaler_file)\n",
    "\n",
    "\n",
    "with open(\"rf_model.pkl\", \"rb\") as model_file:\n",
    "    model = pickle.load(model_file)"
   ]
  },
  {
   "cell_type": "code",
   "execution_count": 35,
   "id": "39fc6c77",
   "metadata": {},
   "outputs": [],
   "source": [
    "import json\n",
    "import numpy as np\n",
    "\n",
    "def predict_game_winner(team_0_starters, team_1_starters, model, league_file='league.json'):\n",
    "    \"\"\"\n",
    "    Predict the winner of a game given the 5 starters for each team.\n",
    "    \n",
    "    Args:\n",
    "        team_0_starters (list): List of 5 player names for Team 0.\n",
    "        team_1_starters (list): List of 5 player names for Team 1.\n",
    "        model (sklearn model): Trained random forest model.\n",
    "        league_file (str): Path to the league.json file containing player attributes.\n",
    "    \n",
    "    Returns:\n",
    "        int: 0 if Team 0 is predicted to win, 1 if Team 1 is predicted to win.\n",
    "    \"\"\"\n",
    "    # Load the league.json data\n",
    "    with open(league_file, 'r') as f:\n",
    "        player_data = json.load(f)\n",
    "    \n",
    "\n",
    "    # Convert player data to a dictionary for faster lookup\n",
    "    player_dict = {player['name']: player for player in player_data}\n",
    "  \n",
    "    \n",
    "    # Compute the average attributes for both teams\n",
    "    team_0_avg = compute_team_average(team_0_starters, player_dict)\n",
    "    team_1_avg = compute_team_average(team_1_starters, player_dict)\n",
    "    \n",
    "    # Combine features for both teams into a single input for the model\n",
    "    combined_features = pd.concat([team_0_avg.add_prefix('team_0_'), team_1_avg.add_prefix('team_1_')]).to_frame().T\n",
    "    \n",
    "    # Scale the combined features using the same scaler used during training\n",
    "    scaled_features = scaler.transform(combined_features)\n",
    "    \n",
    "    # Predict the winner\n",
    "    prediction = model.predict(scaled_features)\n",
    "    \n",
    "    return prediction[0]  # 0 for Team 0 win, 1 for Team 1 win\n",
    "\n",
    "# Helper function to compute average attributes for a team\n",
    "def compute_team_average(starters, player_dict):\n",
    "    attributes_list = []\n",
    "    for player in starters:\n",
    "        if player in player_dict:\n",
    "            attributes_list.append(player_dict[player])\n",
    "        else:\n",
    "            raise ValueError(f\"Player '{player}' not found in league.json\")\n",
    "    # Convert to a DataFrame and compute the mean of all attributes\n",
    "    return pd.DataFrame(attributes_list).mean()\n"
   ]
  },
  {
   "cell_type": "code",
   "execution_count": 36,
   "id": "111ddea2",
   "metadata": {},
   "outputs": [
    {
     "name": "stdout",
     "output_type": "stream",
     "text": [
      "Team 0 is predicted to win.\n"
     ]
    },
    {
     "name": "stderr",
     "output_type": "stream",
     "text": [
      "/var/folders/gv/mxw7p1nn5_b2n6n_7wkjz2sw0000gn/T/ipykernel_51356/1275881089.py:50: FutureWarning: The default value of numeric_only in DataFrame.mean is deprecated. In a future version, it will default to False. In addition, specifying 'numeric_only=None' is deprecated. Select only valid columns or specify the value of numeric_only to silence this warning.\n",
      "  return pd.DataFrame(attributes_list).mean()\n",
      "/var/folders/gv/mxw7p1nn5_b2n6n_7wkjz2sw0000gn/T/ipykernel_51356/1275881089.py:50: FutureWarning: The default value of numeric_only in DataFrame.mean is deprecated. In a future version, it will default to False. In addition, specifying 'numeric_only=None' is deprecated. Select only valid columns or specify the value of numeric_only to silence this warning.\n",
      "  return pd.DataFrame(attributes_list).mean()\n"
     ]
    }
   ],
   "source": [
    "team_0_starters = [\"Luka Doncic\", \"Stephen Curry\", \"Jayson Tatum\", \"Karl-Anthony Towns\", \"Nikola Jokic\"]\n",
    "team_1_starters = [\"LeBron James\", \"Kevin Durant\", \"Anthony Edwards\", \"Victor Wembanyama\", \"Joel Embiid\"]\n",
    "\n",
    "prediction = predict_game_winner(team_0_starters, team_1_starters, model, league_file='league.json')\n",
    "\n",
    "if prediction == 0:\n",
    "    print(\"Team 0 is predicted to win.\")\n",
    "else:\n",
    "    print(\"Team 1 is predicted to win.\")\n"
   ]
  },
  {
   "cell_type": "code",
   "execution_count": null,
   "id": "e2ffc749",
   "metadata": {},
   "outputs": [],
   "source": []
  }
 ],
 "metadata": {
  "kernelspec": {
   "display_name": "Python 3 (ipykernel)",
   "language": "python",
   "name": "python3"
  },
  "language_info": {
   "codemirror_mode": {
    "name": "ipython",
    "version": 3
   },
   "file_extension": ".py",
   "mimetype": "text/x-python",
   "name": "python",
   "nbconvert_exporter": "python",
   "pygments_lexer": "ipython3",
   "version": "3.8.13"
  }
 },
 "nbformat": 4,
 "nbformat_minor": 5
}
